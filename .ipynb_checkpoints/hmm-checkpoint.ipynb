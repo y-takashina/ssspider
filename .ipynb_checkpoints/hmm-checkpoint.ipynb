{
 "cells": [
  {
   "cell_type": "code",
   "execution_count": 1,
   "metadata": {
    "collapsed": true
   },
   "outputs": [],
   "source": [
    "import tqdm\n",
    "import pandas as pd\n",
    "import string\n",
    "import random\n",
    "import numpy as np\n",
    "import collections\n",
    "import sklearn.model_selection\n",
    "import sklearn.feature_extraction\n",
    "import sklearn.feature_selection\n",
    "import pomegranate\n",
    "import seaborn as sns\n",
    "import matplotlib.pyplot as plt\n",
    "sns.set_style('ticks')\n",
    "\n",
    "import MeCab\n",
    "# m = MeCab.Tagger(' -d /usr/lib/mecab/dic/mecab-ipadic-neologd -F%f[6],%f[0], -U%m,, -EEOS,EOS') # with POS\n",
    "m = MeCab.Tagger(' -d /usr/lib/mecab/dic/mecab-ipadic-neologd -F%m,%f[0], -U%m,, -EEOS,EOS') # with POS\n",
    "# m = MeCab.Tagger(' -d /usr/lib/mecab/dic/mecab-ipadic-neologd -F%f[6], -U%m,, -EEOS') # without POS\n",
    "\n",
    "PATTERN_URL = \"\"\"((?:https?:(?:/{1,3}|[a-z0-9%])|[a-z0-9.\\-]+[.](?:com|net|org|edu|gov|mil|aero|asia|biz|cat|coop|info|int|jobs|mobi|museum|name|post|pro|tel|travel|xxx|ac|ad|ae|af|ag|ai|al|am|an|ao|aq|ar|as|at|au|aw|ax|az|ba|bb|bd|be|bf|bg|bh|bi|bj|bm|bn|bo|br|bs|bt|bv|bw|by|bz|ca|cc|cd|cf|cg|ch|ci|ck|cl|cm|cn|co|cr|cs|cu|cv|cx|cy|cz|dd|de|dj|dk|dm|do|dz|ec|ee|eg|eh|er|es|et|eu|fi|fj|fk|fm|fo|fr|ga|gb|gd|ge|gf|gg|gh|gi|gl|gm|gn|gp|gq|gr|gs|gt|gu|gw|gy|hk|hm|hn|hr|ht|hu|id|ie|il|im|in|io|iq|ir|is|it|je|jm|jo|jp|ke|kg|kh|ki|km|kn|kp|kr|kw|ky|kz|la|lb|lc|li|lk|lr|ls|lt|lu|lv|ly|ma|mc|md|me|mg|mh|mk|ml|mm|mn|mo|mp|mq|mr|ms|mt|mu|mv|mw|mx|my|mz|na|nc|ne|nf|ng|ni|nl|no|np|nr|nu|nz|om|pa|pe|pf|pg|ph|pk|pl|pm|pn|pr|ps|pt|pw|py|qa|re|ro|rs|ru|rw|sa|sb|sc|sd|se|sg|sh|si|sj|Ja|sk|sl|sm|sn|so|sr|ss|st|su|sv|sx|sy|sz|tc|td|tf|tg|th|tj|tk|tl|tm|tn|to|tp|tr|tt|tv|tw|tz|ua|ug|uk|us|uy|uz|va|vc|ve|vg|vi|vn|vu|wf|ws|ye|yt|yu|za|zm|zw)/)(?:[^\\s()<>{}\\[\\]]+|\\([^\\s()]*?\\([^\\s()]+\\)[^\\s()]*?\\)|\\([^\\s]+?\\))+(?:\\([^\\s()]*?\\([^\\s()]+\\)[^\\s()]*?\\)|\\([^\\s]+?\\)|[^\\s`!()\\[\\]{};:'\".,<>?≪≫“”‘’])|(?:(?<!@)[a-z0-9]+(?:[.\\-][a-z0-9]+)*[.](?:com|net|org|edu|gov|mil|aero|asia|biz|cat|coop|info|int|jobs|mobi|museum|name|post|pro|tel|travel|xxx|ac|ad|ae|af|ag|ai|al|am|an|ao|aq|ar|as|at|au|aw|ax|az|ba|bb|bd|be|bf|bg|bh|bi|bj|bm|bn|bo|br|bs|bt|bv|bw|by|bz|ca|cc|cd|cf|cg|ch|ci|ck|cl|cm|cn|co|cr|cs|cu|cv|cx|cy|cz|dd|de|dj|dk|dm|do|dz|ec|ee|eg|eh|er|es|et|eu|fi|fj|fk|fm|fo|fr|ga|gb|gd|ge|gf|gg|gh|gi|gl|gm|gn|gp|gq|gr|gs|gt|gu|gw|gy|hk|hm|hn|hr|ht|hu|id|ie|il|im|in|io|iq|ir|is|it|je|jm|jo|jp|ke|kg|kh|ki|km|kn|kp|kr|kw|ky|kz|la|lb|lc|li|lk|lr|ls|lt|lu|lv|ly|ma|mc|md|me|mg|mh|mk|ml|mm|mn|mo|mp|mq|mr|ms|mt|mu|mv|mw|mx|my|mz|na|nc|ne|nf|ng|ni|nl|no|np|nr|nu|nz|om|pa|pe|pf|pg|ph|pk|pl|pm|pn|pr|ps|pt|pw|py|qa|re|ro|rs|ru|rw|sa|sb|sc|sd|se|sg|sh|si|sj|Ja|sk|sl|sm|sn|so|sr|ss|st|su|sv|sx|sy|sz|tc|td|tf|tg|th|tj|tk|tl|tm|tn|to|tp|tr|tt|tv|tw|tz|ua|ug|uk|us|uy|uz|va|vc|ve|vg|vi|vn|vu|wf|ws|ye|yt|yu|za|zm|zw)\\b/?(?!@)))\"\"\""
   ]
  },
  {
   "cell_type": "code",
   "execution_count": 2,
   "metadata": {},
   "outputs": [
    {
     "name": "stdout",
     "output_type": "stream",
     "text": [
      "689028\n"
     ]
    },
    {
     "data": {
      "text/html": [
       "<div>\n",
       "<style scoped>\n",
       "    .dataframe tbody tr th:only-of-type {\n",
       "        vertical-align: middle;\n",
       "    }\n",
       "\n",
       "    .dataframe tbody tr th {\n",
       "        vertical-align: top;\n",
       "    }\n",
       "\n",
       "    .dataframe thead th {\n",
       "        text-align: right;\n",
       "    }\n",
       "</style>\n",
       "<table border=\"1\" class=\"dataframe\">\n",
       "  <thead>\n",
       "    <tr style=\"text-align: right;\">\n",
       "      <th></th>\n",
       "      <th>0</th>\n",
       "      <th>1</th>\n",
       "    </tr>\n",
       "  </thead>\n",
       "  <tbody>\n",
       "    <tr>\n",
       "      <th>0</th>\n",
       "      <td>・</td>\n",
       "      <td>やーだーイクの早いよー</td>\n",
       "    </tr>\n",
       "    <tr>\n",
       "      <th>1</th>\n",
       "      <td>・【画像あり】白人女</td>\n",
       "      <td>日本は暑いわね・・・(お尻バイン！)(太ももドン！)(ブラジャー透けッ・・・！)</td>\n",
       "    </tr>\n",
       "    <tr>\n",
       "      <th>2</th>\n",
       "      <td>・女子小学生</td>\n",
       "      <td>1時間くすぐりに耐えるだけで5万円くれるの？！</td>\n",
       "    </tr>\n",
       "    <tr>\n",
       "      <th>3</th>\n",
       "      <td>・彡(゜)(゜)</td>\n",
       "      <td>あかん、ザクをぶった切ったらコロニーに穴開いてしもた</td>\n",
       "    </tr>\n",
       "    <tr>\n",
       "      <th>4</th>\n",
       "      <td>・フェネック</td>\n",
       "      <td>あんっあっアライさっぁっ</td>\n",
       "    </tr>\n",
       "  </tbody>\n",
       "</table>\n",
       "</div>"
      ],
      "text/plain": [
       "            0                                         1\n",
       "0           ・                               やーだーイクの早いよー\n",
       "1  ・【画像あり】白人女  日本は暑いわね・・・(お尻バイン！)(太ももドン！)(ブラジャー透けッ・・・！)\n",
       "2      ・女子小学生                   1時間くすぐりに耐えるだけで5万円くれるの？！\n",
       "3    ・彡(゜)(゜)                あかん、ザクをぶった切ったらコロニーに穴開いてしもた\n",
       "4      ・フェネック                              あんっあっアライさっぁっ"
      ]
     },
     "execution_count": 2,
     "metadata": {},
     "output_type": "execute_result"
    }
   ],
   "source": [
    "df = pd.read_csv('talks.csv', header=None).dropna()\n",
    "print(len(df))\n",
    "df[:5]"
   ]
  },
  {
   "cell_type": "code",
   "execution_count": 3,
   "metadata": {
    "scrolled": false
   },
   "outputs": [
    {
     "data": {
      "text/html": [
       "<div>\n",
       "<style scoped>\n",
       "    .dataframe tbody tr th:only-of-type {\n",
       "        vertical-align: middle;\n",
       "    }\n",
       "\n",
       "    .dataframe tbody tr th {\n",
       "        vertical-align: top;\n",
       "    }\n",
       "\n",
       "    .dataframe thead th {\n",
       "        text-align: right;\n",
       "    }\n",
       "</style>\n",
       "<table border=\"1\" class=\"dataframe\">\n",
       "  <thead>\n",
       "    <tr style=\"text-align: right;\">\n",
       "      <th></th>\n",
       "      <th>1</th>\n",
       "    </tr>\n",
       "    <tr>\n",
       "      <th>0</th>\n",
       "      <th></th>\n",
       "    </tr>\n",
       "  </thead>\n",
       "  <tbody>\n",
       "    <tr>\n",
       "      <th>男</th>\n",
       "      <td>41771</td>\n",
       "    </tr>\n",
       "    <tr>\n",
       "      <th>女</th>\n",
       "      <td>15936</td>\n",
       "    </tr>\n",
       "    <tr>\n",
       "      <th>勇者</th>\n",
       "      <td>15482</td>\n",
       "    </tr>\n",
       "    <tr>\n",
       "      <th>俺</th>\n",
       "      <td>10762</td>\n",
       "    </tr>\n",
       "    <tr>\n",
       "      <th>妹</th>\n",
       "      <td>10246</td>\n",
       "    </tr>\n",
       "  </tbody>\n",
       "</table>\n",
       "</div>"
      ],
      "text/plain": [
       "        1\n",
       "0        \n",
       "男   41771\n",
       "女   15936\n",
       "勇者  15482\n",
       "俺   10762\n",
       "妹   10246"
      ]
     },
     "execution_count": 3,
     "metadata": {},
     "output_type": "execute_result"
    }
   ],
   "source": [
    "df_grouped = df.groupby(0).count().sort_values(by=1, ascending=False)\n",
    "df_grouped[:5]"
   ]
  },
  {
   "cell_type": "code",
   "execution_count": 4,
   "metadata": {},
   "outputs": [
    {
     "data": {
      "text/plain": [
       "{'俺': array(['おま〇こー？', 'チノちゃんのおま〇こっ！', 'おま〇こ♪おま〇こ♪', ..., 'ふう……ここまで逃げたらもう来ねえだろ',\n",
       "        'た、助かった！おーい、おーい！', 'あじゅおじゅごぼうべおぼぶべばばっ'], dtype=object),\n",
       " '勇者': array(['おい、魔法使い', 'あ、失礼……まだ来客中だったか。しかし、変わった格好をしているが……', 'はじめまして、勇者です', ...,\n",
       "        'はい。魔法使い殿の仰るとおりであります', 'ボクらも手紙書くよー！', 'はい！\\u3000新人勇者、全力で頑張ります！'], dtype=object),\n",
       " '女': array(['！', 'いやぁぁぁっ！', '！', ..., '世間って狭いわよね', 'いいわよ。私はソルティドッグでも飲もうかしら',\n",
       "        '私の名前は、志緒っていうの'], dtype=object),\n",
       " '妹': array(['それセ〇クスにならないの？', 'うーん', 'うん！それならいいよ', ..., '自己中死ね',\n",
       "        'う、うぅ、てか私たちなんであんなに争ってたんだろ', 'てめぇは黙ってろ'], dtype=object),\n",
       " '男': array(['年金払ってるんですか', 'もらえるとき来るんですかね…', '見た目がおばあちゃんならもらえるかもわかんないですね', ...,\n",
       "        'どっちだよ', '……分かった、出すぞ', 'ん……'], dtype=object)}"
      ]
     },
     "execution_count": 4,
     "metadata": {},
     "output_type": "execute_result"
    }
   ],
   "source": [
    "popular_roles = df_grouped[:5].index\n",
    "talks_by_roles = {role: df[df[0] == role][1].values for role in popular_roles}\n",
    "talks_by_roles"
   ]
  },
  {
   "cell_type": "code",
   "execution_count": 5,
   "metadata": {},
   "outputs": [
    {
     "name": "stdout",
     "output_type": "stream",
     "text": [
      "['おい' '、' '魔法使い' 'EOS']\n",
      "['感動詞' '記号' '名詞' 'EOS']\n"
     ]
    },
    {
     "data": {
      "text/plain": [
       "{'EOS', '名詞', '感動詞', '記号'}"
      ]
     },
     "execution_count": 5,
     "metadata": {},
     "output_type": "execute_result"
    }
   ],
   "source": [
    "words_by_documents = [np.array(m.parse(talk).split(',')[::2]) for talk in talks_by_roles['勇者']]\n",
    "poses_by_documents = [np.array(m.parse(talk).split(',')[1::2]) for talk in talks_by_roles['勇者']]\n",
    "print(words_by_documents[0][:10])\n",
    "print(poses_by_documents[0][:10])\n",
    "set(poses_by_documents[0])"
   ]
  },
  {
   "cell_type": "code",
   "execution_count": 6,
   "metadata": {},
   "outputs": [],
   "source": [
    "mm = pomegranate.MarkovChain.from_samples(words_by_documents[:500])"
   ]
  },
  {
   "cell_type": "code",
   "execution_count": 7,
   "metadata": {},
   "outputs": [
    {
     "name": "stdout",
     "output_type": "stream",
     "text": [
      "これから宿を包んだなEOSちょっと痛いん\n"
     ]
    }
   ],
   "source": [
    "print(''.join(mm.sample(10)))"
   ]
  },
  {
   "cell_type": "code",
   "execution_count": null,
   "metadata": {
    "collapsed": true
   },
   "outputs": [],
   "source": [
    "indices = [(poses == '名詞') + (poses == '形容詞') + (poses == '動詞') + (poses == '助詞') for poses in poses_by_documents]\n",
    "words_by_documents = [words[index] for index, words in zip(indices, words_by_documents)]\n",
    "poses_by_documents = [poses[index] for index, poses in zip(indices, poses_by_documents)]"
   ]
  }
 ],
 "metadata": {
  "kernelspec": {
   "display_name": "py36",
   "language": "python",
   "name": "py36"
  },
  "language_info": {
   "codemirror_mode": {
    "name": "ipython",
    "version": 3
   },
   "file_extension": ".py",
   "mimetype": "text/x-python",
   "name": "python",
   "nbconvert_exporter": "python",
   "pygments_lexer": "ipython3",
   "version": "3.6.3"
  }
 },
 "nbformat": 4,
 "nbformat_minor": 2
}
