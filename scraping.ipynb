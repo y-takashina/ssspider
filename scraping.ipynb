{
 "cells": [
  {
   "cell_type": "code",
   "execution_count": null,
   "metadata": {
    "collapsed": true
   },
   "outputs": [],
   "source": [
    "import tqdm\n",
    "import os\n",
    "import re\n",
    "import bs4\n",
    "import time\n",
    "import requests\n",
    "import pandas as pd\n",
    "import string\n",
    "import random\n",
    "import numpy as np"
   ]
  },
  {
   "cell_type": "code",
   "execution_count": null,
   "metadata": {
    "collapsed": true
   },
   "outputs": [],
   "source": [
    "headers = {\"User-Agent\": \"Windows 10, Chrome/62.0.3202.94.\"}\n",
    "URL = \"http://minnanohimatubushi.2chblog.jp/\"\n",
    "res = requests.get(URL, timeout=1)\n",
    "soup = bs4.BeautifulSoup(res.text, \"lxml\")"
   ]
  },
  {
   "cell_type": "code",
   "execution_count": null,
   "metadata": {
    "collapsed": true
   },
   "outputs": [],
   "source": [
    "monthly_pages = []\n",
    "for month in soup.find('div', attrs={\"class\": \"plugin-monthly sidewrapper\"}).findAll('option'):\n",
    "    if month['value']:\n",
    "        monthly_pages.append(month['value'])"
   ]
  },
  {
   "cell_type": "code",
   "execution_count": null,
   "metadata": {
    "collapsed": true,
    "scrolled": true
   },
   "outputs": [],
   "source": [
    "urls = []\n",
    "for month in tqdm.tqdm(monthly_pages):\n",
    "    page = requests.get(month, timeout=1)\n",
    "    soup = bs4.BeautifulSoup(page.text, \"lxml\")\n",
    "    for bookmark in soup.findAll('a', attrs={\"rel\": \"bookmark\"}):\n",
    "        urls += [bookmark['href']]\n",
    "\n",
    "len(urls)"
   ]
  },
  {
   "cell_type": "code",
   "execution_count": null,
   "metadata": {
    "collapsed": true
   },
   "outputs": [],
   "source": [
    "headers = {\"User-Agent\": \"Windows 10, Chrome/62.0.3202.94.\"}\n",
    "pattern = re.compile('(\\S+?)「(.*?)」', re.DOTALL)\n",
    "talks = []\n",
    "for url in urls:\n",
    "    res = requests.get(url, timeout=1, headers=headers)\n",
    "    soup = bs4.BeautifulSoup(res.text, \"lxml\")\n",
    "    article = soup.find('div', attrs={\"class\": \"article-body-more\"})\n",
    "    talks += pattern.findall(article.text)\n",
    "    time.sleep(1)"
   ]
  },
  {
   "cell_type": "code",
   "execution_count": null,
   "metadata": {
    "collapsed": true
   },
   "outputs": [],
   "source": [
    "df = pd.DataFrame(talks)\n",
    "print(len(df.index))\n",
    "df[:5]"
   ]
  },
  {
   "cell_type": "code",
   "execution_count": null,
   "metadata": {
    "collapsed": true
   },
   "outputs": [],
   "source": [
    "df.to_csv('talks.csv')"
   ]
  },
  {
   "cell_type": "code",
   "execution_count": null,
   "metadata": {
    "collapsed": true
   },
   "outputs": [],
   "source": []
  }
 ],
 "metadata": {
  "kernelspec": {
   "display_name": "py36",
   "language": "python",
   "name": "py36"
  },
  "language_info": {
   "codemirror_mode": {
    "name": "ipython",
    "version": 3
   },
   "file_extension": ".py",
   "mimetype": "text/x-python",
   "name": "python",
   "nbconvert_exporter": "python",
   "pygments_lexer": "ipython3",
   "version": "3.6.3"
  }
 },
 "nbformat": 4,
 "nbformat_minor": 2
}
